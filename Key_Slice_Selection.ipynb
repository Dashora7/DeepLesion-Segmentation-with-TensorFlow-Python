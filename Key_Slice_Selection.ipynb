{
 "cells": [
  {
   "cell_type": "code",
   "execution_count": 4,
   "metadata": {},
   "outputs": [],
   "source": [
    "%matplotlib inline\n",
    "import os\n",
    "import matplotlib.pyplot as plt\n",
    "import matplotlib.image as mpimg\n",
    "import numpy as np\n",
    "import shutil\n",
    "import csv\n",
    "import pandas as pd\n",
    "import PIL"
   ]
  },
  {
   "cell_type": "code",
   "execution_count": 5,
   "metadata": {},
   "outputs": [
    {
     "name": "stdout",
     "output_type": "stream",
     "text": [
      "C:\\Temp\\nitish\\Tensorflow\\workspace\\training_demo\\images\n"
     ]
    }
   ],
   "source": [
    "#os.chdir(\"images\\\\Extracted_Images\")\n",
    "print(os.getcwd())"
   ]
  },
  {
   "cell_type": "code",
   "execution_count": 42,
   "metadata": {},
   "outputs": [],
   "source": [
    "#Counters Initialization\n",
    "\n",
    "#Iterate through the 56 files\n",
    "#for folder in os.listdir(\".\"):\n",
    "    #os.chdir(folder)\n",
    "    #os.chdir(\"Images_png\")\n",
    "    #Iterate throgh every study in each file\n",
    "#for studies in os.listdir(\".\"):\n",
    "    path = str(os.getcwd()) + \"\\\\\" + str(studies)\n",
    "    shutil.move(path, r\"C:\\Temp\\nitish\\Tensorflow\\workspace\\training_demo\\images\\Key_Slices\")\n",
    "    \n",
    "    #Navigate back to start for next iteration\n",
    "os.chdir(\"..\")\n",
    "os.chdir(\"..\")"
   ]
  },
  {
   "cell_type": "code",
   "execution_count": 16,
   "metadata": {},
   "outputs": [
    {
     "name": "stdout",
     "output_type": "stream",
     "text": [
      "[116, 116, 116, 116, 116, 116, 116, 116, 116, 116, 116, 116, 116, 116, 116, 116, 116, 116, 116, 116, 116, 116, 116, 116, 116, 116, 116, 116, 116, 116, 116, 116, 116, 116, 116, 116, 116, 116, 116, 116, 116, 116, 116, 116, 116, 116, 116, 116, 116, 116, 116, 116, 116, 116, 116, 116, 116, 116, 116, 116, 116, 116, 116, 116, 116, 116, 116, 116, 116, 116, 116, 116, 116, 116, 116, 116, 116, 116, 116, 116, 116, 116, 116, 116, 116, 116, 116, 116, 116, 116, 116, 116, 116, 116, 116, 116, 116, 116, 116, 116, 116, 116, 116, 116, 116, 116, 116, 116, 116, 116, 116, 116, 116, 116, 116, 116, 116, 116, 116, 116, 116, 116, 116, 116, 116, 116, 116, 116, 116, 116, 116, 116, 116, 116, 116, 116, 116, 116, 116, 116, 116, 116, 116, 116, 116, 116, 116, 116, 116, 116, 116, 116, 116, 116, 116, 116, 116, 116, 116, 116, 116, 116, 116, 116, 116, 116, 116, 116, 116, 116, 116, 116, 116, 116, 116, 116, 116, 116, 116, 116, 116, 116, 116, 116, 116, 116, 116, 116, 116, 116, 116, 116, 116, 116, 116, 116, 116, 116, 116, 116, 116, 116, 116, 116, 116, 116, 116, 116, 116, 116, 116, 116, 116, 116, 116, 116, 116, 116, 116, 116, 116, 116, 116, 116, 116, 116, 116, 116, 116, 116, 116, 116, 116, 116, 116, 116, 116, 116, 116, 116, 128, 128, 128, 128, 128, 128, 128, 128, 128, 128, 128, 128, 128, 128, 128, 128, 128, 128, 128, 128, 128, 128, 128, 128, 128, 128, 128, 128, 128, 128, 128, 128, 116, 116, 116, 116, 116, 116, 116, 116, 116, 116, 116, 116, 116, 116, 116, 116, 116, 116, 116, 116, 116, 116, 116, 116, 116, 116, 116, 116, 116, 116, 116, 116, 116, 116, 116, 116, 116, 116, 116, 116, 116, 116, 116, 116, 116, 116, 116, 116, 116, 116, 116, 116, 116, 116, 116, 116, 116, 116, 116, 116, 116, 116, 116, 116, 116, 116, 116, 116, 116, 116, 116, 116, 116, 116, 116, 116, 116, 116, 116, 116, 116, 116, 116, 116, 116, 116, 116, 116, 116, 116, 116, 116, 116, 116, 116, 116, 116, 116, 116, 116, 116, 116, 116, 116, 116, 116, 116, 116, 116, 116, 116, 116, 116, 116, 116, 116, 116, 116, 116, 116, 116, 116, 116, 116, 116, 116, 116, 116, 116, 116, 116, 116, 116, 116, 116, 116, 116, 116, 116, 116, 116, 116, 116, 116, 116, 116, 116, 116, 116, 116, 116, 116, 116, 116, 116, 116, 116, 116, 116, 116, 116, 116, 116, 116, 116, 116, 116, 116, 116, 116, 116, 116, 116, 116, 116, 116, 116, 116, 116, 116, 116, 116, 116, 116, 116, 116, 116, 116, 116, 116, 116, 116, 116, 116, 116, 116, 116, 116, 116, 116, 116, 116, 116, 116, 116, 116, 116, 116, 116, 116, 116, 116, 116, 116, 116, 116, 116, 116, 116, 116, 116, 116, 116, 116, 116, 116, 116, 116, 116, 116, 116, 116, 116, 116, 116, 116, 116, 116, 116, 116]\n"
     ]
    }
   ],
   "source": [
    "#with open(\"C:\\Temp\\nitish\\Tensorflow\\workspace\\training_demo\\annotations\\DL_info.csv\") as csvfile:\n",
    "#with open(\"C:\\Temp\\DL_info.csv\") as csvfile:\n",
    "    #csvreader = csv.reader(csvfile)\n",
    "    #for row in csvreader:\n",
    "        #print(', '.join(row))\n",
    "os.chdir(\"C:\\Temp\\\\nitish\\Tensorflow\\workspace\\\\training_demo\\images\\\\test\\images\") \n",
    "from_folder = \"C:\\Temp\\\\nitish\\Tensorflow\\workspace\\\\training_demo\\images\\\\test\\images\\\\\"\n",
    "to_folder = \"C:\\Temp\\\\nitish\\Tensorflow\\workspace\\\\training_demo\\images\\test\\\\images8\\\\\"\n",
    "#df2 = pd.read_csv(\"C:\\Temp\\\\nitish\\Tensorflow\\\\workspace\\\\training_demo\\\\annotations\\DL_info.csv\", usecols = [\"File_name\"])\n",
    "\"\"\"\n",
    "for i, rows in enumerate(df2.values):\n",
    "   x,y = rows[0].split(\".\")\n",
    "   #x,y = raw_file.split(\".\")\n",
    "   a,b,c,d = x.split(\"_\")\n",
    "   #print(a,b,c,d)\n",
    "   folder_name = a + \"_\" + b + \"_\" + c + \"\\\\\"\n",
    "   file_name = d + \".\" + y\n",
    "   #print(folder_name, file_name)\n",
    "   from_file = from_folder + folder_name + file_name\n",
    "   to_file = to_folder + folder_name + file_name\n",
    "   target_folder = to_folder + folder_name\n",
    "   if not os.path.exists(target_folder):\n",
    "    os.mkdir(target_folder)\n",
    "   shutil.copy2(from_file, to_file)\n",
    "#pd.read_csv(\"C:\\Temp\\DL_info.csv\")\n",
    "\"\"\"\n",
    "\"\"\"\n",
    "def roundInt(x):\n",
    "    x=x[0]\n",
    "    x = int(x+0.5)\n",
    "    if x > 512:\n",
    "        x = 512\n",
    "    if x < 0:\n",
    "        x = 0\n",
    "    return x\n",
    "\"\"\"\n",
    "\n",
    "\n",
    "for image in os.listdir(\".\"):\n",
    "    im = PIL.Image.open(image)\n",
    "    im_array = np.array(im).astype(int32)\n",
    "    im_array = im_array - 32768\n",
    "    im_array = list(map(roundInt, im_array))\n",
    "    print(im_array)\n",
    "    break"
   ]
  },
  {
   "cell_type": "code",
   "execution_count": null,
   "metadata": {},
   "outputs": [],
   "source": []
  }
 ],
 "metadata": {
  "kernelspec": {
   "display_name": "Python 3",
   "language": "python",
   "name": "python3"
  },
  "language_info": {
   "codemirror_mode": {
    "name": "ipython",
    "version": 3
   },
   "file_extension": ".py",
   "mimetype": "text/x-python",
   "name": "python",
   "nbconvert_exporter": "python",
   "pygments_lexer": "ipython3",
   "version": "3.6.6"
  }
 },
 "nbformat": 4,
 "nbformat_minor": 2
}
