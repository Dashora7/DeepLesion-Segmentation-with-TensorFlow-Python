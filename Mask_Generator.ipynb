{
 "cells": [
  {
   "cell_type": "code",
   "execution_count": 2,
   "metadata": {
    "scrolled": true
   },
   "outputs": [],
   "source": [
    "%matplotlib inline\n",
    "import os\n",
    "import matplotlib.pyplot as plt\n",
    "import matplotlib.image as mpimg\n",
    "import numpy as np\n",
    "import shutil\n",
    "import csv\n",
    "import pandas as pd\n",
    "import PIL"
   ]
  },
  {
   "cell_type": "code",
   "execution_count": 3,
   "metadata": {},
   "outputs": [
    {
     "name": "stdout",
     "output_type": "stream",
     "text": [
      "C:\\Temp\\nitish\\Tensorflow\\workspace\\training_demo\\images\n"
     ]
    }
   ],
   "source": [
    "print(os.getcwd())"
   ]
  },
  {
   "cell_type": "code",
   "execution_count": 4,
   "metadata": {
    "scrolled": true
   },
   "outputs": [
    {
     "data": {
      "text/html": [
       "<div>\n",
       "<style scoped>\n",
       "    .dataframe tbody tr th:only-of-type {\n",
       "        vertical-align: middle;\n",
       "    }\n",
       "\n",
       "    .dataframe tbody tr th {\n",
       "        vertical-align: top;\n",
       "    }\n",
       "\n",
       "    .dataframe thead th {\n",
       "        text-align: right;\n",
       "    }\n",
       "</style>\n",
       "<table border=\"1\" class=\"dataframe\">\n",
       "  <thead>\n",
       "    <tr style=\"text-align: right;\">\n",
       "      <th></th>\n",
       "      <th>File_name</th>\n",
       "      <th>Measurement_coordinates</th>\n",
       "    </tr>\n",
       "  </thead>\n",
       "  <tbody>\n",
       "    <tr>\n",
       "      <th>0</th>\n",
       "      <td>000001_01_01_109.png</td>\n",
       "      <td>233.537, 95.0204, 234.057, 106.977, 231.169, 1...</td>\n",
       "    </tr>\n",
       "    <tr>\n",
       "      <th>1</th>\n",
       "      <td>000001_02_01_014.png</td>\n",
       "      <td>224.826, 289.296, 224.016, 305.294, 222.396, 2...</td>\n",
       "    </tr>\n",
       "    <tr>\n",
       "      <th>2</th>\n",
       "      <td>000001_02_01_017.png</td>\n",
       "      <td>272.323, 320.763, 246.522, 263.371, 234.412, 3...</td>\n",
       "    </tr>\n",
       "    <tr>\n",
       "      <th>3</th>\n",
       "      <td>000001_03_01_088.png</td>\n",
       "      <td>257.759, 157.618, 260.018, 133.524, 251.735, 1...</td>\n",
       "    </tr>\n",
       "    <tr>\n",
       "      <th>4</th>\n",
       "      <td>000001_04_01_017.png</td>\n",
       "      <td>304.019, 230.585, 292.217, 211.789, 304.456, 2...</td>\n",
       "    </tr>\n",
       "  </tbody>\n",
       "</table>\n",
       "</div>"
      ],
      "text/plain": [
       "              File_name                            Measurement_coordinates\n",
       "0  000001_01_01_109.png  233.537, 95.0204, 234.057, 106.977, 231.169, 1...\n",
       "1  000001_02_01_014.png  224.826, 289.296, 224.016, 305.294, 222.396, 2...\n",
       "2  000001_02_01_017.png  272.323, 320.763, 246.522, 263.371, 234.412, 3...\n",
       "3  000001_03_01_088.png  257.759, 157.618, 260.018, 133.524, 251.735, 1...\n",
       "4  000001_04_01_017.png  304.019, 230.585, 292.217, 211.789, 304.456, 2..."
      ]
     },
     "execution_count": 4,
     "metadata": {},
     "output_type": "execute_result"
    }
   ],
   "source": [
    "df = pd.read_csv(\"C:\\\\Temp\\\\nitish\\\\Tensorflow\\\\workspace\\\\training_demo\\\\annotations\\\\DL_info.csv\", usecols = [\"File_name\", \"Measurement_coordinates\"])\n",
    "df[:5]"
   ]
  },
  {
   "cell_type": "code",
   "execution_count": 5,
   "metadata": {},
   "outputs": [
    {
     "name": "stdout",
     "output_type": "stream",
     "text": [
      "233.537\n",
      "(178, 178, 178, 255)\n",
      "224.826\n",
      "(192, 192, 192, 255)\n",
      "272.323\n",
      "(137, 137, 137, 255)\n"
     ]
    }
   ],
   "source": [
    "#name mask \"mask_109.png\"\n",
    "base = \"C:\\Temp\\\\nitish\\Tensorflow\\workspace\\\\training_demo\\images\\Selected\\\\\"\n",
    "for i, rows in enumerate(df.values):\n",
    "    x,y = rows[0].split(\".\")\n",
    "    a,b,c,d = x.split(\"_\")\n",
    "    folder_name = a + \"_\" + b + \"_\" + c + \"\\\\\"\n",
    "    file_name = d + \".\" + y\n",
    "    file_location = base + folder_name + file_name\n",
    "    os.chdir(base + folder_name)\n",
    "    im = PIL.Image.open(file_name)\n",
    "    im.show()\n",
    "    mask = PIL.Image.new('RGB', (512, 512))\n",
    "    mask.show()\n",
    "    x11,y11,x12,y12,x21,y21,x22,y22 = df[\"Measurement_coordinates\"][i].split(\",\")\n",
    "    print(x11)\n",
    "    print(im.load()[250,250])\n",
    "    if i == 2:\n",
    "        break"
   ]
  },
  {
   "cell_type": "code",
   "execution_count": null,
   "metadata": {},
   "outputs": [],
   "source": [
    "#Basis:\n",
    "#Find rectangle of diameters. Find mid(quarter)point between end-bound and diamter-center intersect. Maybe make a quadrilateral.\n",
    "#Use the four midpoints to create a refined sampling rectangle. We then use this to calculate average pixel intensity\n",
    "#Within the original pixel rectangle, we will calculate for every pixel whether its absolute value is less than a determined \n",
    "#threshold. If so, it'll be true. This threshold can first maybe be a number. If a plain number does not work, we can try stats.\n",
    "#With stats, we could try to find a factor of variance to determine threshold.\n",
    "#Within the lesion, if there is a region that has an abnormal intensity, then we should attempt to fill it. This will \n",
    "#be done by filling the main quadritalteral created from the 4 original diameter points. \n",
    "#Once we calclulate this, we will basically have a small lesion box inside of the whole image. We will then project this binary\n",
    "#image onto a 512x512 png to get our mask.\n",
    "\n",
    "\n",
    "#Attempt to look at boundary creating algorithms?? Apply hyperparams to Otsu's??"
   ]
  }
 ],
 "metadata": {
  "kernelspec": {
   "display_name": "Python 3",
   "language": "python",
   "name": "python3"
  },
  "language_info": {
   "codemirror_mode": {
    "name": "ipython",
    "version": 3
   },
   "file_extension": ".py",
   "mimetype": "text/x-python",
   "name": "python",
   "nbconvert_exporter": "python",
   "pygments_lexer": "ipython3",
   "version": "3.6.6"
  }
 },
 "nbformat": 4,
 "nbformat_minor": 2
}
