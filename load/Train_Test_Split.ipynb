{
 "cells": [
  {
   "cell_type": "code",
   "execution_count": 1,
   "metadata": {},
   "outputs": [],
   "source": [
    "import pandas as pd\n",
    "import os"
   ]
  },
  {
   "cell_type": "code",
   "execution_count": 2,
   "metadata": {},
   "outputs": [],
   "source": [
    "df = pd.read_csv(\"enter DL CSV Path\", usecols=[\"File_name\", \"Patient_index\", \"Study_index\", \"Series_ID\", \"Key_slice_index\", \"Measurement_coordinates\", \"Bounding_boxes\", \"Lesion_diameters_Pixel_\", \"Normalized_lesion_location\", \"Coarse_lesion_type\", \"Possibly_noisy\", \"Slice_range\", \"Spacing_mm_px_\", \"Image_size\", \"DICOM_windows\", \"Patient_gender\", \"Patient_age\", \"Train_Val_Test\"])\n",
    "traindf = pd.DataFrame()\n",
    "testdf = pd.DataFrame()\n",
    "for i, rows in df.iterrows():\n",
    "    if rows[\"Train_Val_Test\"] == 3 and rows[\"Possibly_noisy\"] == 0:\n",
    "        testdf = testdf.append(rows)\n",
    "    elif rows[\"Possibly_noisy\"] == 0:\n",
    "        traindf = traindf.append(rows)"
   ]
  },
  {
   "cell_type": "code",
   "execution_count": 3,
   "metadata": {},
   "outputs": [],
   "source": [
    "train_csv = traindf.to_csv(\"train csv location\")\n",
    "test_csv = testdf.to_csv(\"test_csv location\")"
   ]
  },
  {
   "cell_type": "code",
   "execution_count": null,
   "metadata": {},
   "outputs": [],
   "source": []
  }
 ],
 "metadata": {
  "kernelspec": {
   "display_name": "Python 3",
   "language": "python",
   "name": "python3"
  },
  "language_info": {
   "codemirror_mode": {
    "name": "ipython",
    "version": 3
   },
   "file_extension": ".py",
   "mimetype": "text/x-python",
   "name": "python",
   "nbconvert_exporter": "python",
   "pygments_lexer": "ipython3",
   "version": "3.6.6"
  }
 },
 "nbformat": 4,
 "nbformat_minor": 2
}
