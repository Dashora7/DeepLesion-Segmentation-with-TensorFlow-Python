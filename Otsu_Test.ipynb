{
 "cells": [
  {
   "cell_type": "code",
   "execution_count": 2,
   "metadata": {},
   "outputs": [
    {
     "name": "stdout",
     "output_type": "stream",
     "text": [
     ]
    }
   ],
   "source": [
    "import matplotlib.pyplot as plt\n",
    "import scipy\n",
    "from skimage import data\n",
    "from skimage import filters\n",
    "from skimage import draw\n",
    "from skimage import exposure\n",
    "from skimage import segmentation\n",
    "from skimage import color\n",
    "import PIL\n",
    "import numpy as np\n",
    "import os\n",
    "print(os.getcwd())"
   ]
  },
  {
   "cell_type": "code",
   "execution_count": 5,
   "metadata": {},
   "outputs": [
    {
     "name": "stdout",
     "output_type": "stream",
     "text": [
      "1\n",
      "[[ True False False  True False  True False False False  True  True  True\n",
      "  False False  True  True  True False False  True  True False False  True]\n",
      " [ True  True False False  True False  True False False False  True  True\n",
      "   True False False  True  True False  True False  True False False  True]\n",
      " [ True  True  True  True False False  True  True False False False  True\n",
      "   True  True False False  True False  True False False  True  True  True]\n",
      " [False  True  True False False False False False  True  True False  True\n",
      "   True  True  True False False False  True False False False  True  True]\n",
      " [False False  True False False False  True False  True  True  True False\n",
      "  False  True  True  True False False False  True  True False False  True]\n",
      " [ True False False False  True  True  True False  True  True  True  True\n",
      "  False False False  True  True False False  True  True  True False False]\n",
      " [ True False False False False  True  True False  True False  True  True\n",
      "   True False False False  True  True False  True False  True False False]\n",
      " [False False False  True False  True  True  True  True False False  True\n",
      "   True False  True False False  True  True  True False  True False  True]\n",
      " [False False False  True False False  True  True  True False False False\n",
      "   True  True  True False False False  True  True  True False False  True]\n",
      " [False False False  True  True  True False False  True  True  True False\n",
      "  False False  True  True False False  True False  True False  True False]\n",
      " [ True False False  True  True  True False False  True  True  True  True\n",
      "  False False False  True  True False False False  True  True  True False]\n",
      " [ True False  True  True  True  True False False False  True  True  True\n",
      "  False  True False False  True  True  True False False  True  True  True]\n",
      " [ True  True  True  True False False  True False False False  True  True\n",
      "   True  True False False False  True  True  True False  True False  True]\n",
      " [ True  True  True  True False False  True  True  True False False False\n",
      "   True  True False False False  True False  True  True False False  True]\n",
      " [ True  True False  True False False False  True False  True False False\n",
      "   True  True  True  True  True False  True  True  True False False  True]\n",
      " [ True  True False False  True  True False False False  True  True False\n",
      "   True False  True  True  True False False  True  True  True False False]\n",
      " [False  True  True  True  True  True False False False  True  True  True\n",
      "   True False False  True  True  True  True False False  True  True False]\n",
      " [False False  True  True  True False  True  True  True False False  True\n",
      "   True False False False  True  True  True False False False  True False]\n",
      " [False False  True  True  True False  True  True  True  True False False\n",
      "   True  True  True False False  True  True  True  True False False  True]\n",
      " [ True  True False False  True  True  True False  True  True  True False\n",
      "  False  True  True  True False False  True  True  True False False  True]\n",
      " [ True  True False False  True  True  True  True  True  True  True False\n",
      "  False False  True  True  True  True False  True  True  True False False]\n",
      " [ True  True  True  True False False  True  True  True False  True  True\n",
      "   True  True False False  True  True False False  True  True  True False]\n",
      " [False False  True  True  True False  True  True  True  True False  True\n",
      "   True  True False False  True  True  True False  True  True  True False]\n",
      " [False  True  True False  True  True  True  True  True  True  True False\n",
      "   True  True False  True False  True  True  True  True False False  True]\n",
      " [ True  True  True False  True  True  True  True False  True  True  True\n",
      "  False False  True  True False False False  True  True  True False  True]\n",
      " [ True  True  True  True  True  True  True  True  True  True False  True\n",
      "  False False  True  True  True False False False  True  True False  True]\n",
      " [False False  True  True  True False  True False  True False False False\n",
      "   True  True  True  True False  True False False  True  True  True False]\n",
      " [False False False  True  True False False False  True False False False\n",
      "  False  True False False False False False  True False  True  True False]\n",
      " [ True False False  True  True  True False False False False False False\n",
      "  False  True  True False False  True  True  True  True False False  True]\n",
      " [ True  True False False False  True  True False False False False  True\n",
      "   True False False  True False False  True  True  True False False False]\n",
      " [ True False False False False False False False False False  True  True\n",
      "  False False False False  True False  True  True False  True False False]\n",
      " [False False False False False False False False  True False False False\n",
      "  False False False False False  True False False False False  True  True]]\n"
     ]
    },
    {
     "data": {
      "image/png": "[encoded data removed]",
      "text/plain": [
       "<Figure size 648x288 with 3 Axes>"
      ]
     },
     "metadata": {
      "needs_background": "light"
     },
     "output_type": "display_data"
    }
   ],
   "source": [
    "file_name = \" test image path 098.png\"\n",
    "im = PIL.Image.open(file_name)\n",
    "#im.show()\n",
    "#only add cushion if difference in pixel intensity is not big\n",
    "#Add image cushion of like 5 pixels. Also eliminate pixels right or left/top or bottom of diameters\n",
    "#there are many other segmentation algorithms\n",
    "camera = np.array(im)\n",
    "new_array = camera[85:117:1, 221:245:1]\n",
    "print(np.amin([1,1,2,3,1]))\n",
    "camera = color.rgb2gray(new_array)\n",
    "\n",
    "val = filters.threshold_otsu(camera)\n",
    "\n",
    "hist, bins_center = exposure.histogram(camera)\n",
    "\n",
    "plt.figure(figsize=(9, 4))\n",
    "plt.subplot(131)\n",
    "plt.imshow(camera, cmap='gray', interpolation='nearest')\n",
    "plt.axis('off')\n",
    "plt.subplot(132)\n",
    "#print(camera)\n",
    "#print(val)\n",
    "\n",
    "\n",
    "new_arr = camera > val\n",
    "print(new_arr)\n",
    "#Set all rows above top boundary to false. We got 5 from 95(top boundary)-90(bbox start)\n",
    "new_arr[:, :5] = False\n",
    "new_arr[:, 10:] = False\n",
    "#Set all rows below bottom boundary to false\n",
    "new_arr[17:, :] = False\n",
    "new_arr[:5, :] = False\n",
    "#x Set\n",
    "#new_arr[:10, :] = False\n",
    "\n",
    "#new_arr[:5, :] = False\n",
    "#new_arr[10:][:] = False\n",
    "\n",
    "plt.imshow(new_arr, cmap='gray')\n",
    "\n",
    "#plt.imshow(camera < val, cmap='gray', interpolation='nearest')\n",
    "plt.axis('off')\n",
    "plt.subplot(133)\n",
    "plt.plot(bins_center, hist, lw=2)\n",
    "plt.axvline(val, color='k', ls='--')\n",
    "plt.tight_layout()\n",
    "#plt.show()"
   ]
  },
  {
   "cell_type": "code",
   "execution_count": null,
   "metadata": {},
   "outputs": [],
   "source": []
  }
 ],
 "metadata": {
  "kernelspec": {
   "display_name": "Python 3",
   "language": "python",
   "name": "python3"
  },
  "language_info": {
   "codemirror_mode": {
    "name": "ipython",
    "version": 3
   },
   "file_extension": ".py",
   "mimetype": "text/x-python",
   "name": "python",
   "nbconvert_exporter": "python",
   "pygments_lexer": "ipython3",
   "version": "3.6.6"
  }
 },
 "nbformat": 4,
 "nbformat_minor": 2
}
