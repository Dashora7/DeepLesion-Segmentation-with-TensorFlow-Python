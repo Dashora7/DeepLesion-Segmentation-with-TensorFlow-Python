{
 "cells": [
  {
   "cell_type": "code",
   "execution_count": 2,
   "metadata": {},
   "outputs": [],
   "source": [
    "import pandas as pd\n",
    "import os\n",
    "import shutil\n",
    "from PIL import Image"
   ]
  },
  {
   "cell_type": "code",
   "execution_count": 3,
   "metadata": {},
   "outputs": [
    {
     "name": "stdout",
     "output_type": "stream",
     "text": [
     ]
    }
   ],
   "source": [
    "df = pd.read_csv(\"info csv\", usecols = [\"File_name\", \"Possibly_noisy\", \"Train_Val_Test\", \"Image_size\"])"
   ]
  },
  {
   "cell_type": "code",
   "execution_count": 33,
   "metadata": {},
   "outputs": [
    {
     "name": "stdout",
     "output_type": "stream",
     "text": [
     ]
    }
   ],
   "source": [
    "base = \"selected image path\"\n",
    "for i, rows in df.iterrows():\n",
    "\n",
    "    x,y = rows[0].split(\".\")\n",
    "    a,b,c,d = x.split(\"_\")\n",
    "    folder_name = a + \"_\" + b + \"_\" + c + \"\\\\\"\n",
    "    file_name = d + \".\" + y\n",
    "    file_location = base + folder_name + file_name\n",
    "    os.chdir(base + folder_name)\n",
    "    \n",
    "    if rows[\"Train_Val_Test\"] == 3 and rows[\"Possibly_noisy\"] == 0:\n",
    "        #print(i)\n",
    "        if df[\"Image_size\"][i].split(\",\")[0] != \"512\":\n",
    "            print(i)\n",
    "            im = Image.open(file_name)\n",
    "            im2 = im.resize((512, 512))\n",
    "            im2.save(\"images path\" + rows[0])\n",
    "        else:\n",
    "            to_file = str(\"images path\" + rows[0])\n",
    "            shutil.copy2(file_location, to_file)      \n",
    "        \n",
    "    elif rows[\"Possibly_noisy\"] == 0:\n",
    "        \n",
    "        if df[\"Image_size\"][i].split(\",\")[0] != \"512\":\n",
    "            print(i)\n",
    "            im = Image.open(file_name)\n",
    "            im2 = im.resize((512, 512))\n",
    "            im2.save(\"images path\" + rows[0])\n",
    "        else:\n",
    "            to_file = str(\"images path\" + rows[0])\n",
    "            shutil.copy2(file_location, to_file)      "
   ]
  },
  {
   "cell_type": "code",
   "execution_count": null,
   "metadata": {},
   "outputs": [],
   "source": []
  }
 ],
 "metadata": {
  "kernelspec": {
   "display_name": "Python 3",
   "language": "python",
   "name": "python3"
  },
  "language_info": {
   "codemirror_mode": {
    "name": "ipython",
    "version": 3
   },
   "file_extension": ".py",
   "mimetype": "text/x-python",
   "name": "python",
   "nbconvert_exporter": "python",
   "pygments_lexer": "ipython3",
   "version": "3.6.6"
  }
 },
 "nbformat": 4,
 "nbformat_minor": 2
}
